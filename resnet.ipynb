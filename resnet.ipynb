{
 "cells": [
  {
   "cell_type": "code",
   "execution_count": 40,
   "metadata": {},
   "outputs": [
    {
     "name": "stdout",
     "output_type": "stream",
     "text": [
      "The autoreload extension is already loaded. To reload it, use:\n",
      "  %reload_ext autoreload\n"
     ]
    }
   ],
   "source": [
    "%matplotlib inline\n",
    "import numpy as np\n",
    "from keras.applications.resnet50 import ResNet50\n",
    "from keras.preprocessing.image import ImageDataGenerator\n",
    "from preprocessing import *\n",
    "\n",
    "# to autoreload modules on code change\n",
    "%load_ext autoreload\n",
    "%autoreload 2"
   ]
  },
  {
   "cell_type": "code",
   "execution_count": 55,
   "metadata": {},
   "outputs": [
    {
     "data": {
      "image/png": "[encoded data removed]",
      "text/plain": [
       "<matplotlib.figure.Figure at 0x14f357ef5828>"
      ]
     },
     "metadata": {},
     "output_type": "display_data"
    }
   ],
   "source": [
    "X_train, y_train, X_val, y_val, X_test, y_test = get_emotion_data(scale=True)"
   ]
  },
  {
   "cell_type": "code",
   "execution_count": 96,
   "metadata": {},
   "outputs": [],
   "source": [
    "def convert_shape(dfs): # convert images into 4d from 2d and viceversa\n",
    "    ret_dfs = [0]*len(dfs)\n",
    "    for i,df in enumerate(dfs):\n",
    "#         print(df.reshape(-1,48,48,1).shape)\n",
    "        temp = np.zeros((df.shape[0],48,48,3))\n",
    "#         print(temp.shape)\n",
    "        df = df.reshape(-1,48,48)\n",
    "#         print(temp[:,:,:,0].shape)\n",
    "        temp[:,:,:,0] = df\n",
    "        temp[:,:,:,1] = df\n",
    "        temp[:,:,:,2] = df\n",
    "        print(temp.shape)\n",
    "        ret_dfs[i] = temp\n",
    "    return ret_dfs"
   ]
  },
  {
   "cell_type": "code",
   "execution_count": 93,
   "metadata": {},
   "outputs": [
    {
     "name": "stdout",
     "output_type": "stream",
     "text": [
      "(28709, 2304)\n",
      "(28709, 1)\n",
      "----------------------------------------\n",
      "[ 0.13915497  0.01518688  0.14270786  0.25131492  0.16823992  0.11045317\n",
      "  0.17294228]\n",
      "\n",
      "(3589, 2304)\n",
      "(3589, 1)\n",
      "----------------------------------------\n",
      "[ 0.13011981  0.01560323  0.13820006  0.24937308  0.18194483  0.1156311\n",
      "  0.16912789]\n",
      "\n",
      "(3589, 2304)\n",
      "(3589, 1)\n",
      "----------------------------------------\n",
      "[ 0.13680691  0.0153246   0.14711619  0.24491502  0.16550571  0.11590972\n",
      "  0.17442184]\n",
      "\n"
     ]
    }
   ],
   "source": [
    "for j,i in enumerate([X_train, y_train, X_val, y_val, X_test, y_test]):\n",
    "    print(i.shape)\n",
    "    if j%2 != 0:\n",
    "        print('----------------------------------------')\n",
    "        bc = np.bincount(i.astype(int).reshape(-1))\n",
    "        sm = bc.sum()\n",
    "        print(bc/sm) # to check if sampling is stratified\n",
    "        print()"
   ]
  },
  {
   "cell_type": "code",
   "execution_count": 129,
   "metadata": {},
   "outputs": [],
   "source": [
    "datagen = ImageDataGenerator(\n",
    "#         featurewise_center=True,\n",
    "#         featurewise_std_normalization=True,\n",
    "#         rotation_range=40,\n",
    "#         width_shift_range=0.2,\n",
    "#         height_shift_range=0.2,\n",
    "#         rescale=1./255,\n",
    "#         shear_range=0.2,\n",
    "#         zoom_range=0.2,\n",
    "#         horizontal_flip=True,\n",
    "#         fill_mode='nearest'\n",
    ")\n",
    "\n",
    "# datagen.fit(X_train.reshape(-1,48,48,1))"
   ]
  },
  {
   "cell_type": "code",
   "execution_count": 130,
   "metadata": {},
   "outputs": [],
   "source": [
    "# X_train,X_val,X_test = convert_shape([X_train,X_val,X_test])"
   ]
  },
  {
   "cell_type": "code",
   "execution_count": 168,
   "metadata": {},
   "outputs": [],
   "source": [
    "dl = datagen.flow(X_train, y_train, batch_size=1,shuffle=False,seed=1)"
   ]
  },
  {
   "cell_type": "code",
   "execution_count": 146,
   "metadata": {},
   "outputs": [
    {
     "data": {
      "text/plain": [
       "(28709, 48, 48, 3)"
      ]
     },
     "execution_count": 146,
     "metadata": {},
     "output_type": "execute_result"
    }
   ],
   "source": [
    "X_train.shape[]"
   ]
  },
  {
   "cell_type": "code",
   "execution_count": 184,
   "metadata": {},
   "outputs": [
    {
     "data": {
      "text/plain": [
       "28709"
      ]
     },
     "execution_count": 184,
     "metadata": {},
     "output_type": "execute_result"
    }
   ],
   "source": [
    "len(iter(dl))\n",
    "# print(a.shape)\n",
    "# plt.imshow(a[0,:,:,2])"
   ]
  },
  {
   "cell_type": "code",
   "execution_count": 178,
   "metadata": {},
   "outputs": [
    {
     "data": {
      "text/plain": [
       "<matplotlib.image.AxesImage at 0x14f3475bdc50>"
      ]
     },
     "execution_count": 178,
     "metadata": {},
     "output_type": "execute_result"
    },
    {
     "data": {
      "image/png": "[encoded data removed]",
      "text/plain": [
       "<matplotlib.figure.Figure at 0x14f3476498d0>"
      ]
     },
     "metadata": {},
     "output_type": "display_data"
    }
   ],
   "source": [
    "img = X_train[1].reshape(48,48,3)\n",
    "img = cv2.resize(img,(250,250))\n",
    "plt.imshow(X_train[1,:,:,2],cmap='gray')\n"
   ]
  },
  {
   "cell_type": "code",
   "execution_count": 61,
   "metadata": {},
   "outputs": [
    {
     "data": {
      "text/plain": [
       "array([[ 0.1204178 ,  0.1204178 ,  0.1204178 , ...,  0.00373634,\n",
       "         0.00373634,  0.00373634],\n",
       "       [ 0.1204178 ,  0.1204178 ,  0.1204178 , ...,  0.00373634,\n",
       "         0.00373634,  0.00373634],\n",
       "       [ 0.1204178 ,  0.1204178 ,  0.1204178 , ...,  0.00373634,\n",
       "         0.00373634,  0.00373634],\n",
       "       ..., \n",
       "       [ 0.26884607,  0.26884607,  0.26884607, ...,  0.27325297,\n",
       "         0.27325297,  0.27325297],\n",
       "       [ 0.26884607,  0.26884607,  0.26884607, ...,  0.27325297,\n",
       "         0.27325297,  0.27325297],\n",
       "       [ 0.26884607,  0.26884607,  0.26884607, ...,  0.27325297,\n",
       "         0.27325297,  0.27325297]])"
      ]
     },
     "execution_count": 61,
     "metadata": {},
     "output_type": "execute_result"
    }
   ],
   "source": [
    "img"
   ]
  },
  {
   "cell_type": "code",
   "execution_count": null,
   "metadata": {},
   "outputs": [],
   "source": []
  }
 ],
 "metadata": {
  "kernelspec": {
   "display_name": "Environment (conda_my_root)",
   "language": "python",
   "name": "conda_my_root"
  },
  "language_info": {
   "codemirror_mode": {
    "name": "ipython",
    "version": 3
   },
   "file_extension": ".py",
   "mimetype": "text/x-python",
   "name": "python",
   "nbconvert_exporter": "python",
   "pygments_lexer": "ipython3",
   "version": "3.6.3"
  }
 },
 "nbformat": 4,
 "nbformat_minor": 2
}
