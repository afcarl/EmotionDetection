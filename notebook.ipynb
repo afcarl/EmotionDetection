{
 "cells": [
  {
   "cell_type": "code",
   "execution_count": 104,
   "metadata": {},
   "outputs": [
    {
     "name": "stdout",
     "output_type": "stream",
     "text": [
      "The autoreload extension is already loaded. To reload it, use:\n",
      "  %reload_ext autoreload\n"
     ]
    }
   ],
   "source": [
    "%matplotlib inline\n",
    "import pandas as pd\n",
    "import tensorflow as tf\n",
    "import numpy as np\n",
    "from preprocessing import *\n",
    "from model import *\n",
    "import math\n",
    "import matplotlib.pyplot as plt\n",
    "\n",
    "# to autoreload modules on code change\n",
    "%load_ext autoreload\n",
    "%autoreload 2"
   ]
  },
  {
   "cell_type": "markdown",
   "metadata": {},
   "source": [
    "# Data preprocessing using pandas!!"
   ]
  },
  {
   "cell_type": "code",
   "execution_count": 2,
   "metadata": {},
   "outputs": [
    {
     "data": {
      "text/html": [
       "<div>\n",
       "<style>\n",
       "    .dataframe thead tr:only-child th {\n",
       "        text-align: right;\n",
       "    }\n",
       "\n",
       "    .dataframe thead th {\n",
       "        text-align: left;\n",
       "    }\n",
       "\n",
       "    .dataframe tbody tr th {\n",
       "        vertical-align: top;\n",
       "    }\n",
       "</style>\n",
       "<table border=\"1\" class=\"dataframe\">\n",
       "  <thead>\n",
       "    <tr style=\"text-align: right;\">\n",
       "      <th></th>\n",
       "      <th>emotion</th>\n",
       "      <th>pixels</th>\n",
       "      <th>Usage</th>\n",
       "    </tr>\n",
       "  </thead>\n",
       "  <tbody>\n",
       "    <tr>\n",
       "      <th>0</th>\n",
       "      <td>0</td>\n",
       "      <td>70 80 82 72 58 58 60 63 54 58 60 48 89 115 121...</td>\n",
       "      <td>Training</td>\n",
       "    </tr>\n",
       "    <tr>\n",
       "      <th>1</th>\n",
       "      <td>0</td>\n",
       "      <td>151 150 147 155 148 133 111 140 170 174 182 15...</td>\n",
       "      <td>Training</td>\n",
       "    </tr>\n",
       "    <tr>\n",
       "      <th>2</th>\n",
       "      <td>2</td>\n",
       "      <td>231 212 156 164 174 138 161 173 182 200 106 38...</td>\n",
       "      <td>Training</td>\n",
       "    </tr>\n",
       "    <tr>\n",
       "      <th>3</th>\n",
       "      <td>4</td>\n",
       "      <td>24 32 36 30 32 23 19 20 30 41 21 22 32 34 21 1...</td>\n",
       "      <td>Training</td>\n",
       "    </tr>\n",
       "    <tr>\n",
       "      <th>4</th>\n",
       "      <td>6</td>\n",
       "      <td>4 0 0 0 0 0 0 0 0 0 0 0 3 15 23 28 48 50 58 84...</td>\n",
       "      <td>Training</td>\n",
       "    </tr>\n",
       "  </tbody>\n",
       "</table>\n",
       "</div>"
      ],
      "text/plain": [
       "   emotion                                             pixels     Usage\n",
       "0        0  70 80 82 72 58 58 60 63 54 58 60 48 89 115 121...  Training\n",
       "1        0  151 150 147 155 148 133 111 140 170 174 182 15...  Training\n",
       "2        2  231 212 156 164 174 138 161 173 182 200 106 38...  Training\n",
       "3        4  24 32 36 30 32 23 19 20 30 41 21 22 32 34 21 1...  Training\n",
       "4        6  4 0 0 0 0 0 0 0 0 0 0 0 3 15 23 28 48 50 58 84...  Training"
      ]
     },
     "execution_count": 2,
     "metadata": {},
     "output_type": "execute_result"
    }
   ],
   "source": [
    "df = pd.read_csv('data/train.csv')\n",
    "df.head()"
   ]
  },
  {
   "cell_type": "code",
   "execution_count": 3,
   "metadata": {},
   "outputs": [
    {
     "data": {
      "text/plain": [
       "emotion    35887\n",
       "pixels     35887\n",
       "Usage      35887\n",
       "dtype: int64"
      ]
     },
     "execution_count": 3,
     "metadata": {},
     "output_type": "execute_result"
    }
   ],
   "source": [
    "df.count()"
   ]
  },
  {
   "cell_type": "code",
   "execution_count": 4,
   "metadata": {},
   "outputs": [
    {
     "data": {
      "text/plain": [
       "array(['Training', 'PublicTest', 'PrivateTest'], dtype=object)"
      ]
     },
     "execution_count": 4,
     "metadata": {},
     "output_type": "execute_result"
    }
   ],
   "source": [
    "df['Usage'].unique()"
   ]
  },
  {
   "cell_type": "code",
   "execution_count": 5,
   "metadata": {},
   "outputs": [
    {
     "data": {
      "text/html": [
       "<div>\n",
       "<style>\n",
       "    .dataframe thead tr:only-child th {\n",
       "        text-align: right;\n",
       "    }\n",
       "\n",
       "    .dataframe thead th {\n",
       "        text-align: left;\n",
       "    }\n",
       "\n",
       "    .dataframe tbody tr th {\n",
       "        vertical-align: top;\n",
       "    }\n",
       "</style>\n",
       "<table border=\"1\" class=\"dataframe\">\n",
       "  <thead>\n",
       "    <tr style=\"text-align: right;\">\n",
       "      <th></th>\n",
       "      <th>pixels</th>\n",
       "      <th>Usage</th>\n",
       "    </tr>\n",
       "    <tr>\n",
       "      <th>emotion</th>\n",
       "      <th></th>\n",
       "      <th></th>\n",
       "    </tr>\n",
       "  </thead>\n",
       "  <tbody>\n",
       "    <tr>\n",
       "      <th>0</th>\n",
       "      <td>4953</td>\n",
       "      <td>4953</td>\n",
       "    </tr>\n",
       "    <tr>\n",
       "      <th>1</th>\n",
       "      <td>547</td>\n",
       "      <td>547</td>\n",
       "    </tr>\n",
       "    <tr>\n",
       "      <th>2</th>\n",
       "      <td>5121</td>\n",
       "      <td>5121</td>\n",
       "    </tr>\n",
       "    <tr>\n",
       "      <th>3</th>\n",
       "      <td>8989</td>\n",
       "      <td>8989</td>\n",
       "    </tr>\n",
       "    <tr>\n",
       "      <th>4</th>\n",
       "      <td>6077</td>\n",
       "      <td>6077</td>\n",
       "    </tr>\n",
       "    <tr>\n",
       "      <th>5</th>\n",
       "      <td>4002</td>\n",
       "      <td>4002</td>\n",
       "    </tr>\n",
       "    <tr>\n",
       "      <th>6</th>\n",
       "      <td>6198</td>\n",
       "      <td>6198</td>\n",
       "    </tr>\n",
       "  </tbody>\n",
       "</table>\n",
       "</div>"
      ],
      "text/plain": [
       "         pixels  Usage\n",
       "emotion               \n",
       "0          4953   4953\n",
       "1           547    547\n",
       "2          5121   5121\n",
       "3          8989   8989\n",
       "4          6077   6077\n",
       "5          4002   4002\n",
       "6          6198   6198"
      ]
     },
     "execution_count": 5,
     "metadata": {},
     "output_type": "execute_result"
    }
   ],
   "source": [
    "df2 = df.groupby('emotion').count()\n",
    "df2"
   ]
  },
  {
   "cell_type": "markdown",
   "metadata": {},
   "source": [
    "## distribution of whole dataset "
   ]
  },
  {
   "cell_type": "code",
   "execution_count": 6,
   "metadata": {},
   "outputs": [
    {
     "data": {
      "text/plain": [
       "<matplotlib.axes._subplots.AxesSubplot at 0x7f2359738b70>"
      ]
     },
     "execution_count": 6,
     "metadata": {},
     "output_type": "execute_result"
    },
    {
     "data": {
      "image/png": "[encoded data removed]",
      "text/plain": [
       "<matplotlib.figure.Figure at 0x7f235975f470>"
      ]
     },
     "metadata": {},
     "output_type": "display_data"
    }
   ],
   "source": [
    "emotion_labels = ['angry','disgust','fear','happy','sad','surprise','neutral']\n",
    "df2['labels'] = pd.Series(emotion_labels)\n",
    "df2.reset_index().plot(kind='bar',x='labels',y='Usage')"
   ]
  },
  {
   "cell_type": "markdown",
   "metadata": {},
   "source": [
    "## distribution of train dataset "
   ]
  },
  {
   "cell_type": "code",
   "execution_count": 60,
   "metadata": {},
   "outputs": [
    {
     "data": {
      "image/png": "[encoded data removed]",
      "text/plain": [
       "<matplotlib.figure.Figure at 0x7f233c4d8160>"
      ]
     },
     "metadata": {},
     "output_type": "display_data"
    }
   ],
   "source": [
    "df[df['Usage'] == 'Training'].groupby('emotion').count().reset_index().plot(kind='bar',x='emotion',y='Usage')\n",
    "df_train = df[df['Usage'] == 'Training']"
   ]
  },
  {
   "cell_type": "markdown",
   "metadata": {},
   "source": [
    "## distribution of test set"
   ]
  },
  {
   "cell_type": "code",
   "execution_count": 8,
   "metadata": {},
   "outputs": [
    {
     "data": {
      "text/plain": [
       "<matplotlib.axes._subplots.AxesSubplot at 0x7f2355db0550>"
      ]
     },
     "execution_count": 8,
     "metadata": {},
     "output_type": "execute_result"
    },
    {
     "data": {
      "image/png": "[encoded data removed]",
      "text/plain": [
       "<matplotlib.figure.Figure at 0x7f235975f208>"
      ]
     },
     "metadata": {},
     "output_type": "display_data"
    }
   ],
   "source": [
    "df[df['Usage'] == 'PublicTest'].groupby('emotion').count().reset_index().plot(kind='bar',x='emotion',y='Usage')"
   ]
  },
  {
   "cell_type": "markdown",
   "metadata": {},
   "source": [
    "## Distribution of private test set!!"
   ]
  },
  {
   "cell_type": "code",
   "execution_count": 9,
   "metadata": {},
   "outputs": [
    {
     "data": {
      "text/plain": [
       "<matplotlib.axes._subplots.AxesSubplot at 0x7f2355d8f898>"
      ]
     },
     "execution_count": 9,
     "metadata": {},
     "output_type": "execute_result"
    },
    {
     "data": {
      "image/png": "[encoded data removed]",
      "text/plain": [
       "<matplotlib.figure.Figure at 0x7f235968f780>"
      ]
     },
     "metadata": {},
     "output_type": "display_data"
    }
   ],
   "source": [
    "df[df['Usage'] == 'PrivateTest'].groupby('emotion').count().reset_index().plot(kind='bar',x='emotion',y='Usage')"
   ]
  },
  {
   "cell_type": "markdown",
   "metadata": {},
   "source": [
    "** The distibution of all the three set is same hence this sanity check is completed **"
   ]
  },
  {
   "cell_type": "code",
   "execution_count": null,
   "metadata": {},
   "outputs": [],
   "source": []
  },
  {
   "cell_type": "code",
   "execution_count": 10,
   "metadata": {},
   "outputs": [],
   "source": [
    "train_df = df[df['Usage'] == 'Training']\n",
    "val_df = df[df['Usage'] == 'PublicTest']"
   ]
  },
  {
   "cell_type": "code",
   "execution_count": 108,
   "metadata": {},
   "outputs": [
    {
     "data": {
      "text/plain": [
       "(3589, 3)"
      ]
     },
     "execution_count": 108,
     "metadata": {},
     "output_type": "execute_result"
    }
   ],
   "source": [
    "df_val = val_df\n",
    "df_val.shape"
   ]
  },
  {
   "cell_type": "code",
   "execution_count": 86,
   "metadata": {},
   "outputs": [
    {
     "data": {
      "text/plain": [
       "(35887, 3)"
      ]
     },
     "execution_count": 86,
     "metadata": {},
     "output_type": "execute_result"
    }
   ],
   "source": [
    "df.shape"
   ]
  },
  {
   "cell_type": "code",
   "execution_count": 72,
   "metadata": {},
   "outputs": [],
   "source": [
    "train_indices = np.arange(train_df.shape[0])\n",
    "np.random.shuffle(train_indices)"
   ]
  },
  {
   "cell_type": "code",
   "execution_count": 84,
   "metadata": {},
   "outputs": [
    {
     "name": "stdout",
     "output_type": "stream",
     "text": [
      "[['71' '75' '59' ..., '255' '255' '255']\n",
      " ['72' '58' '79' ..., '110' '110' '75']\n",
      " ['55' '52' '62' ..., '44' '55' '44']\n",
      " ..., \n",
      " ['133' '115' '55' ..., '133' '133' '133']\n",
      " ['46' '36' '28' ..., '80' '92' '73']\n",
      " ['42' '41' '47' ..., '30' '28' '24']]\n"
     ]
    },
    {
     "data": {
      "text/html": [
       "<div>\n",
       "<style>\n",
       "    .dataframe thead tr:only-child th {\n",
       "        text-align: right;\n",
       "    }\n",
       "\n",
       "    .dataframe thead th {\n",
       "        text-align: left;\n",
       "    }\n",
       "\n",
       "    .dataframe tbody tr th {\n",
       "        vertical-align: top;\n",
       "    }\n",
       "</style>\n",
       "<table border=\"1\" class=\"dataframe\">\n",
       "  <thead>\n",
       "    <tr style=\"text-align: right;\">\n",
       "      <th></th>\n",
       "      <th>emotion</th>\n",
       "      <th>pixels</th>\n",
       "      <th>Usage</th>\n",
       "    </tr>\n",
       "  </thead>\n",
       "  <tbody>\n",
       "    <tr>\n",
       "      <th>28146</th>\n",
       "      <td>0</td>\n",
       "      <td>71 75 59 36 29 60 46 60 68 52 59 45 55 64 68 5...</td>\n",
       "      <td>Training</td>\n",
       "    </tr>\n",
       "    <tr>\n",
       "      <th>11552</th>\n",
       "      <td>3</td>\n",
       "      <td>72 58 79 79 59 71 59 18 43 75 87 89 85 84 85 8...</td>\n",
       "      <td>Training</td>\n",
       "    </tr>\n",
       "    <tr>\n",
       "      <th>4468</th>\n",
       "      <td>0</td>\n",
       "      <td>55 52 62 67 49 51 67 80 104 119 97 93 149 199 ...</td>\n",
       "      <td>Training</td>\n",
       "    </tr>\n",
       "    <tr>\n",
       "      <th>6724</th>\n",
       "      <td>5</td>\n",
       "      <td>47 52 50 68 73 52 81 106 132 164 172 173 177 1...</td>\n",
       "      <td>Training</td>\n",
       "    </tr>\n",
       "    <tr>\n",
       "      <th>14924</th>\n",
       "      <td>3</td>\n",
       "      <td>79 92 97 112 115 120 133 143 148 149 150 155 1...</td>\n",
       "      <td>Training</td>\n",
       "    </tr>\n",
       "    <tr>\n",
       "      <th>15597</th>\n",
       "      <td>4</td>\n",
       "      <td>30 27 31 78 107 108 109 108 104 109 117 124 12...</td>\n",
       "      <td>Training</td>\n",
       "    </tr>\n",
       "    <tr>\n",
       "      <th>395</th>\n",
       "      <td>6</td>\n",
       "      <td>63 62 44 36 54 69 110 196 209 215 207 210 222 ...</td>\n",
       "      <td>Training</td>\n",
       "    </tr>\n",
       "    <tr>\n",
       "      <th>26771</th>\n",
       "      <td>6</td>\n",
       "      <td>169 169 169 169 170 168 176 131 35 21 18 35 41...</td>\n",
       "      <td>Training</td>\n",
       "    </tr>\n",
       "    <tr>\n",
       "      <th>727</th>\n",
       "      <td>0</td>\n",
       "      <td>138 127 91 57 50 35 55 43 44 50 46 35 31 33 32...</td>\n",
       "      <td>Training</td>\n",
       "    </tr>\n",
       "    <tr>\n",
       "      <th>23891</th>\n",
       "      <td>3</td>\n",
       "      <td>29 24 11 10 12 16 22 28 69 105 133 151 166 177...</td>\n",
       "      <td>Training</td>\n",
       "    </tr>\n",
       "    <tr>\n",
       "      <th>14608</th>\n",
       "      <td>3</td>\n",
       "      <td>26 33 35 36 33 28 32 20 16 28 32 25 25 16 29 3...</td>\n",
       "      <td>Training</td>\n",
       "    </tr>\n",
       "    <tr>\n",
       "      <th>10309</th>\n",
       "      <td>6</td>\n",
       "      <td>82 81 80 80 81 81 81 80 80 84 83 80 82 86 87 8...</td>\n",
       "      <td>Training</td>\n",
       "    </tr>\n",
       "    <tr>\n",
       "      <th>9429</th>\n",
       "      <td>3</td>\n",
       "      <td>252 251 249 246 217 190 183 121 70 123 155 100...</td>\n",
       "      <td>Training</td>\n",
       "    </tr>\n",
       "    <tr>\n",
       "      <th>5470</th>\n",
       "      <td>6</td>\n",
       "      <td>235 235 235 235 238 238 238 240 239 242 230 15...</td>\n",
       "      <td>Training</td>\n",
       "    </tr>\n",
       "    <tr>\n",
       "      <th>20229</th>\n",
       "      <td>3</td>\n",
       "      <td>118 120 119 116 113 115 117 120 120 125 127 12...</td>\n",
       "      <td>Training</td>\n",
       "    </tr>\n",
       "    <tr>\n",
       "      <th>17875</th>\n",
       "      <td>2</td>\n",
       "      <td>7 7 8 6 21 190 190 134 101 87 75 82 105 107 13...</td>\n",
       "      <td>Training</td>\n",
       "    </tr>\n",
       "    <tr>\n",
       "      <th>2551</th>\n",
       "      <td>4</td>\n",
       "      <td>79 82 83 84 85 89 92 90 93 95 94 97 95 97 93 8...</td>\n",
       "      <td>Training</td>\n",
       "    </tr>\n",
       "    <tr>\n",
       "      <th>17067</th>\n",
       "      <td>3</td>\n",
       "      <td>190 190 190 190 190 190 188 189 124 80 77 71 7...</td>\n",
       "      <td>Training</td>\n",
       "    </tr>\n",
       "    <tr>\n",
       "      <th>14244</th>\n",
       "      <td>5</td>\n",
       "      <td>177 209 243 254 252 254 196 91 65 50 19 15 41 ...</td>\n",
       "      <td>Training</td>\n",
       "    </tr>\n",
       "    <tr>\n",
       "      <th>11499</th>\n",
       "      <td>6</td>\n",
       "      <td>255 255 255 255 255 255 255 254 253 254 246 15...</td>\n",
       "      <td>Training</td>\n",
       "    </tr>\n",
       "    <tr>\n",
       "      <th>1010</th>\n",
       "      <td>4</td>\n",
       "      <td>113 97 102 89 83 83 97 101 123 145 158 152 153...</td>\n",
       "      <td>Training</td>\n",
       "    </tr>\n",
       "    <tr>\n",
       "      <th>4006</th>\n",
       "      <td>3</td>\n",
       "      <td>192 192 193 193 191 202 84 34 42 37 32 30 36 2...</td>\n",
       "      <td>Training</td>\n",
       "    </tr>\n",
       "    <tr>\n",
       "      <th>10806</th>\n",
       "      <td>4</td>\n",
       "      <td>103 95 91 84 85 99 112 118 119 122 114 99 89 9...</td>\n",
       "      <td>Training</td>\n",
       "    </tr>\n",
       "    <tr>\n",
       "      <th>9633</th>\n",
       "      <td>6</td>\n",
       "      <td>24 32 46 58 70 77 87 92 90 86 82 80 84 88 92 9...</td>\n",
       "      <td>Training</td>\n",
       "    </tr>\n",
       "    <tr>\n",
       "      <th>1900</th>\n",
       "      <td>3</td>\n",
       "      <td>8 10 8 11 8 8 31 52 39 34 37 42 114 77 91 137 ...</td>\n",
       "      <td>Training</td>\n",
       "    </tr>\n",
       "    <tr>\n",
       "      <th>10260</th>\n",
       "      <td>5</td>\n",
       "      <td>45 29 27 36 55 80 105 129 147 139 150 150 136 ...</td>\n",
       "      <td>Training</td>\n",
       "    </tr>\n",
       "    <tr>\n",
       "      <th>17945</th>\n",
       "      <td>0</td>\n",
       "      <td>75 75 89 90 80 108 111 114 129 142 147 155 161...</td>\n",
       "      <td>Training</td>\n",
       "    </tr>\n",
       "    <tr>\n",
       "      <th>24153</th>\n",
       "      <td>3</td>\n",
       "      <td>252 239 195 192 173 138 101 75 78 75 76 67 62 ...</td>\n",
       "      <td>Training</td>\n",
       "    </tr>\n",
       "    <tr>\n",
       "      <th>26524</th>\n",
       "      <td>6</td>\n",
       "      <td>162 159 159 165 187 179 129 122 122 150 141 14...</td>\n",
       "      <td>Training</td>\n",
       "    </tr>\n",
       "    <tr>\n",
       "      <th>9684</th>\n",
       "      <td>6</td>\n",
       "      <td>71 80 85 88 94 87 94 111 114 122 132 137 130 1...</td>\n",
       "      <td>Training</td>\n",
       "    </tr>\n",
       "    <tr>\n",
       "      <th>...</th>\n",
       "      <td>...</td>\n",
       "      <td>...</td>\n",
       "      <td>...</td>\n",
       "    </tr>\n",
       "    <tr>\n",
       "      <th>10968</th>\n",
       "      <td>2</td>\n",
       "      <td>71 65 60 45 44 43 43 43 61 86 95 109 115 115 1...</td>\n",
       "      <td>Training</td>\n",
       "    </tr>\n",
       "    <tr>\n",
       "      <th>21669</th>\n",
       "      <td>3</td>\n",
       "      <td>127 57 75 84 37 63 68 64 64 48 46 47 48 41 44 ...</td>\n",
       "      <td>Training</td>\n",
       "    </tr>\n",
       "    <tr>\n",
       "      <th>13283</th>\n",
       "      <td>3</td>\n",
       "      <td>215 141 59 45 34 26 23 27 27 31 32 36 42 35 44...</td>\n",
       "      <td>Training</td>\n",
       "    </tr>\n",
       "    <tr>\n",
       "      <th>23644</th>\n",
       "      <td>0</td>\n",
       "      <td>76 100 73 65 65 45 48 50 61 59 54 57 64 69 80 ...</td>\n",
       "      <td>Training</td>\n",
       "    </tr>\n",
       "    <tr>\n",
       "      <th>23646</th>\n",
       "      <td>5</td>\n",
       "      <td>255 255 255 255 255 255 255 255 254 254 240 11...</td>\n",
       "      <td>Training</td>\n",
       "    </tr>\n",
       "    <tr>\n",
       "      <th>4926</th>\n",
       "      <td>5</td>\n",
       "      <td>148 145 136 120 116 59 31 36 58 85 103 101 92 ...</td>\n",
       "      <td>Training</td>\n",
       "    </tr>\n",
       "    <tr>\n",
       "      <th>25360</th>\n",
       "      <td>0</td>\n",
       "      <td>82 78 84 72 35 17 25 29 31 41 44 46 81 151 196...</td>\n",
       "      <td>Training</td>\n",
       "    </tr>\n",
       "    <tr>\n",
       "      <th>7502</th>\n",
       "      <td>4</td>\n",
       "      <td>254 253 255 246 241 239 241 249 253 252 253 24...</td>\n",
       "      <td>Training</td>\n",
       "    </tr>\n",
       "    <tr>\n",
       "      <th>16682</th>\n",
       "      <td>5</td>\n",
       "      <td>135 139 136 138 147 139 134 143 126 119 96 100...</td>\n",
       "      <td>Training</td>\n",
       "    </tr>\n",
       "    <tr>\n",
       "      <th>3463</th>\n",
       "      <td>4</td>\n",
       "      <td>54 54 54 55 59 59 54 54 57 55 54 53 49 73 105 ...</td>\n",
       "      <td>Training</td>\n",
       "    </tr>\n",
       "    <tr>\n",
       "      <th>19010</th>\n",
       "      <td>6</td>\n",
       "      <td>187 186 174 169 161 150 147 149 148 147 138 12...</td>\n",
       "      <td>Training</td>\n",
       "    </tr>\n",
       "    <tr>\n",
       "      <th>24931</th>\n",
       "      <td>6</td>\n",
       "      <td>207 213 218 220 217 211 146 60 44 55 72 69 66 ...</td>\n",
       "      <td>Training</td>\n",
       "    </tr>\n",
       "    <tr>\n",
       "      <th>21317</th>\n",
       "      <td>2</td>\n",
       "      <td>0 0 0 3 7 3 2 3 3 2 3 16 48 57 60 66 72 74 73 ...</td>\n",
       "      <td>Training</td>\n",
       "    </tr>\n",
       "    <tr>\n",
       "      <th>23188</th>\n",
       "      <td>0</td>\n",
       "      <td>243 177 126 103 97 90 85 71 64 57 61 9 33 75 6...</td>\n",
       "      <td>Training</td>\n",
       "    </tr>\n",
       "    <tr>\n",
       "      <th>17340</th>\n",
       "      <td>4</td>\n",
       "      <td>20 18 33 71 89 97 109 118 130 146 160 165 171 ...</td>\n",
       "      <td>Training</td>\n",
       "    </tr>\n",
       "    <tr>\n",
       "      <th>3063</th>\n",
       "      <td>1</td>\n",
       "      <td>94 103 118 129 137 144 145 143 145 150 156 160...</td>\n",
       "      <td>Training</td>\n",
       "    </tr>\n",
       "    <tr>\n",
       "      <th>26963</th>\n",
       "      <td>3</td>\n",
       "      <td>225 226 210 120 93 95 66 65 64 53 57 51 62 59 ...</td>\n",
       "      <td>Training</td>\n",
       "    </tr>\n",
       "    <tr>\n",
       "      <th>4267</th>\n",
       "      <td>4</td>\n",
       "      <td>254 254 254 254 254 254 254 254 254 254 254 25...</td>\n",
       "      <td>Training</td>\n",
       "    </tr>\n",
       "    <tr>\n",
       "      <th>21832</th>\n",
       "      <td>6</td>\n",
       "      <td>60 158 255 223 65 246 255 107 133 255 226 74 2...</td>\n",
       "      <td>Training</td>\n",
       "    </tr>\n",
       "    <tr>\n",
       "      <th>4150</th>\n",
       "      <td>5</td>\n",
       "      <td>109 52 36 65 75 61 25 8 12 21 40 59 69 73 74 6...</td>\n",
       "      <td>Training</td>\n",
       "    </tr>\n",
       "    <tr>\n",
       "      <th>12562</th>\n",
       "      <td>3</td>\n",
       "      <td>208 194 113 47 48 41 31 41 27 21 31 51 60 69 8...</td>\n",
       "      <td>Training</td>\n",
       "    </tr>\n",
       "    <tr>\n",
       "      <th>12440</th>\n",
       "      <td>2</td>\n",
       "      <td>176 79 66 72 109 88 78 105 72 59 69 87 86 62 3...</td>\n",
       "      <td>Training</td>\n",
       "    </tr>\n",
       "    <tr>\n",
       "      <th>18831</th>\n",
       "      <td>3</td>\n",
       "      <td>211 199 124 51 61 75 91 105 89 76 54 40 21 30 ...</td>\n",
       "      <td>Training</td>\n",
       "    </tr>\n",
       "    <tr>\n",
       "      <th>8411</th>\n",
       "      <td>6</td>\n",
       "      <td>37 20 12 18 34 50 65 75 83 92 93 99 104 107 11...</td>\n",
       "      <td>Training</td>\n",
       "    </tr>\n",
       "    <tr>\n",
       "      <th>5265</th>\n",
       "      <td>3</td>\n",
       "      <td>245 250 124 48 51 48 51 48 52 54 65 81 101 105...</td>\n",
       "      <td>Training</td>\n",
       "    </tr>\n",
       "    <tr>\n",
       "      <th>27594</th>\n",
       "      <td>6</td>\n",
       "      <td>0 0 0 4 14 23 30 38 48 59 76 91 107 122 129 13...</td>\n",
       "      <td>Training</td>\n",
       "    </tr>\n",
       "    <tr>\n",
       "      <th>21446</th>\n",
       "      <td>5</td>\n",
       "      <td>15 7 6 8 8 6 5 4 4 4 4 4 5 7 8 8 12 14 14 16 1...</td>\n",
       "      <td>Training</td>\n",
       "    </tr>\n",
       "    <tr>\n",
       "      <th>25479</th>\n",
       "      <td>6</td>\n",
       "      <td>133 115 55 36 29 35 46 79 103 101 105 109 112 ...</td>\n",
       "      <td>Training</td>\n",
       "    </tr>\n",
       "    <tr>\n",
       "      <th>9428</th>\n",
       "      <td>5</td>\n",
       "      <td>46 36 28 27 25 23 21 21 20 18 17 15 15 14 15 1...</td>\n",
       "      <td>Training</td>\n",
       "    </tr>\n",
       "    <tr>\n",
       "      <th>20124</th>\n",
       "      <td>0</td>\n",
       "      <td>42 41 47 48 46 54 59 62 73 82 97 100 97 103 10...</td>\n",
       "      <td>Training</td>\n",
       "    </tr>\n",
       "  </tbody>\n",
       "</table>\n",
       "<p>64 rows × 3 columns</p>\n",
       "</div>"
      ],
      "text/plain": [
       "       emotion                                             pixels     Usage\n",
       "28146        0  71 75 59 36 29 60 46 60 68 52 59 45 55 64 68 5...  Training\n",
       "11552        3  72 58 79 79 59 71 59 18 43 75 87 89 85 84 85 8...  Training\n",
       "4468         0  55 52 62 67 49 51 67 80 104 119 97 93 149 199 ...  Training\n",
       "6724         5  47 52 50 68 73 52 81 106 132 164 172 173 177 1...  Training\n",
       "14924        3  79 92 97 112 115 120 133 143 148 149 150 155 1...  Training\n",
       "15597        4  30 27 31 78 107 108 109 108 104 109 117 124 12...  Training\n",
       "395          6  63 62 44 36 54 69 110 196 209 215 207 210 222 ...  Training\n",
       "26771        6  169 169 169 169 170 168 176 131 35 21 18 35 41...  Training\n",
       "727          0  138 127 91 57 50 35 55 43 44 50 46 35 31 33 32...  Training\n",
       "23891        3  29 24 11 10 12 16 22 28 69 105 133 151 166 177...  Training\n",
       "14608        3  26 33 35 36 33 28 32 20 16 28 32 25 25 16 29 3...  Training\n",
       "10309        6  82 81 80 80 81 81 81 80 80 84 83 80 82 86 87 8...  Training\n",
       "9429         3  252 251 249 246 217 190 183 121 70 123 155 100...  Training\n",
       "5470         6  235 235 235 235 238 238 238 240 239 242 230 15...  Training\n",
       "20229        3  118 120 119 116 113 115 117 120 120 125 127 12...  Training\n",
       "17875        2  7 7 8 6 21 190 190 134 101 87 75 82 105 107 13...  Training\n",
       "2551         4  79 82 83 84 85 89 92 90 93 95 94 97 95 97 93 8...  Training\n",
       "17067        3  190 190 190 190 190 190 188 189 124 80 77 71 7...  Training\n",
       "14244        5  177 209 243 254 252 254 196 91 65 50 19 15 41 ...  Training\n",
       "11499        6  255 255 255 255 255 255 255 254 253 254 246 15...  Training\n",
       "1010         4  113 97 102 89 83 83 97 101 123 145 158 152 153...  Training\n",
       "4006         3  192 192 193 193 191 202 84 34 42 37 32 30 36 2...  Training\n",
       "10806        4  103 95 91 84 85 99 112 118 119 122 114 99 89 9...  Training\n",
       "9633         6  24 32 46 58 70 77 87 92 90 86 82 80 84 88 92 9...  Training\n",
       "1900         3  8 10 8 11 8 8 31 52 39 34 37 42 114 77 91 137 ...  Training\n",
       "10260        5  45 29 27 36 55 80 105 129 147 139 150 150 136 ...  Training\n",
       "17945        0  75 75 89 90 80 108 111 114 129 142 147 155 161...  Training\n",
       "24153        3  252 239 195 192 173 138 101 75 78 75 76 67 62 ...  Training\n",
       "26524        6  162 159 159 165 187 179 129 122 122 150 141 14...  Training\n",
       "9684         6  71 80 85 88 94 87 94 111 114 122 132 137 130 1...  Training\n",
       "...        ...                                                ...       ...\n",
       "10968        2  71 65 60 45 44 43 43 43 61 86 95 109 115 115 1...  Training\n",
       "21669        3  127 57 75 84 37 63 68 64 64 48 46 47 48 41 44 ...  Training\n",
       "13283        3  215 141 59 45 34 26 23 27 27 31 32 36 42 35 44...  Training\n",
       "23644        0  76 100 73 65 65 45 48 50 61 59 54 57 64 69 80 ...  Training\n",
       "23646        5  255 255 255 255 255 255 255 255 254 254 240 11...  Training\n",
       "4926         5  148 145 136 120 116 59 31 36 58 85 103 101 92 ...  Training\n",
       "25360        0  82 78 84 72 35 17 25 29 31 41 44 46 81 151 196...  Training\n",
       "7502         4  254 253 255 246 241 239 241 249 253 252 253 24...  Training\n",
       "16682        5  135 139 136 138 147 139 134 143 126 119 96 100...  Training\n",
       "3463         4  54 54 54 55 59 59 54 54 57 55 54 53 49 73 105 ...  Training\n",
       "19010        6  187 186 174 169 161 150 147 149 148 147 138 12...  Training\n",
       "24931        6  207 213 218 220 217 211 146 60 44 55 72 69 66 ...  Training\n",
       "21317        2  0 0 0 3 7 3 2 3 3 2 3 16 48 57 60 66 72 74 73 ...  Training\n",
       "23188        0  243 177 126 103 97 90 85 71 64 57 61 9 33 75 6...  Training\n",
       "17340        4  20 18 33 71 89 97 109 118 130 146 160 165 171 ...  Training\n",
       "3063         1  94 103 118 129 137 144 145 143 145 150 156 160...  Training\n",
       "26963        3  225 226 210 120 93 95 66 65 64 53 57 51 62 59 ...  Training\n",
       "4267         4  254 254 254 254 254 254 254 254 254 254 254 25...  Training\n",
       "21832        6  60 158 255 223 65 246 255 107 133 255 226 74 2...  Training\n",
       "4150         5  109 52 36 65 75 61 25 8 12 21 40 59 69 73 74 6...  Training\n",
       "12562        3  208 194 113 47 48 41 31 41 27 21 31 51 60 69 8...  Training\n",
       "12440        2  176 79 66 72 109 88 78 105 72 59 69 87 86 62 3...  Training\n",
       "18831        3  211 199 124 51 61 75 91 105 89 76 54 40 21 30 ...  Training\n",
       "8411         6  37 20 12 18 34 50 65 75 83 92 93 99 104 107 11...  Training\n",
       "5265         3  245 250 124 48 51 48 51 48 52 54 65 81 101 105...  Training\n",
       "27594        6  0 0 0 4 14 23 30 38 48 59 76 91 107 122 129 13...  Training\n",
       "21446        5  15 7 6 8 8 6 5 4 4 4 4 4 5 7 8 8 12 14 14 16 1...  Training\n",
       "25479        6  133 115 55 36 29 35 46 79 103 101 105 109 112 ...  Training\n",
       "9428         5  46 36 28 27 25 23 21 21 20 18 17 15 15 14 15 1...  Training\n",
       "20124        0  42 41 47 48 46 54 59 62 73 82 97 100 97 103 10...  Training\n",
       "\n",
       "[64 rows x 3 columns]"
      ]
     },
     "execution_count": 84,
     "metadata": {},
     "output_type": "execute_result"
    }
   ],
   "source": [
    "idx = train_indices[0:64]\n",
    "print(get_subset(df,indices=idx)[0])\n",
    "train_df.iloc[idx]"
   ]
  },
  {
   "cell_type": "code",
   "execution_count": 56,
   "metadata": {},
   "outputs": [
    {
     "data": {
      "text/plain": [
       "(400, 2304)"
      ]
     },
     "execution_count": 56,
     "metadata": {},
     "output_type": "execute_result"
    }
   ],
   "source": [
    "assert get_subset(df,0,400)[0].shape[0] == 400\n",
    "get_subset(df,0,400)[0].shape"
   ]
  },
  {
   "cell_type": "code",
   "execution_count": 102,
   "metadata": {},
   "outputs": [],
   "source": [
    "tf.reset_default_graph()\n",
    "X = tf.placeholder(tf.float32,shape=[None,2304],name='X')\n",
    "y = tf.placeholder(tf.int64,shape=[None],name='y')\n",
    "is_training = tf.placeholder(tf.bool)\n",
    "y_out = model1(X,y)\n",
    "\n",
    "total_loss = tf.losses.softmax_cross_entropy(tf.one_hot(y,7),y_out)\n",
    "mean_loss = tf.reduce_mean(total_loss)\n",
    "optimizer = tf.train.AdamOptimizer(learning_rate=1e-5)\n",
    "train_step = optimizer.minimize(total_loss)"
   ]
  },
  {
   "cell_type": "code",
   "execution_count": null,
   "metadata": {},
   "outputs": [
    {
     "name": "stdout",
     "output_type": "stream",
     "text": [
      "training\n",
      "Iteration 0: with minibatch training loss = 109 and accuracy of 0.17\n",
      "Iteration 100: with minibatch training loss = 36.8 and accuracy of 0.17\n",
      "Iteration 200: with minibatch training loss = 27.1 and accuracy of 0.19\n",
      "Iteration 300: with minibatch training loss = 25.3 and accuracy of 0.28\n",
      "Iteration 400: with minibatch training loss = 21.4 and accuracy of 0.2\n",
      "Epoch 1, Overall loss = 31.9 and accuracy of 0.188\n"
     ]
    },
    {
     "data": {
      "image/png": "[encoded data removed]",
      "text/plain": [
       "<matplotlib.figure.Figure at 0x7f233b4af0f0>"
      ]
     },
     "metadata": {},
     "output_type": "display_data"
    },
    {
     "name": "stdout",
     "output_type": "stream",
     "text": [
      "Iteration 500: with minibatch training loss = 22.3 and accuracy of 0.22\n",
      "Iteration 600: with minibatch training loss = 20 and accuracy of 0.16\n",
      "Iteration 700: with minibatch training loss = 18.6 and accuracy of 0.23\n",
      "Iteration 800: with minibatch training loss = 15.3 and accuracy of 0.19\n",
      "Epoch 2, Overall loss = 19.2 and accuracy of 0.201\n"
     ]
    },
    {
     "data": {
      "image/png": "[encoded data removed]",
      "text/plain": [
       "<matplotlib.figure.Figure at 0x7f2336389358>"
      ]
     },
     "metadata": {},
     "output_type": "display_data"
    },
    {
     "name": "stdout",
     "output_type": "stream",
     "text": [
      "validation\n"
     ]
    }
   ],
   "source": [
    "def run_model(session, predict, loss_val, Xd,         # utility function to run a model\n",
    "              epochs=1, batch_size=64, print_every=100,\n",
    "              training=None, plot_losses=False):\n",
    "    \n",
    "    \n",
    "    # have tensorflow compute accuracy\n",
    "    correct_prediction = tf.equal(tf.argmax(predict,1), y)\n",
    "    accuracy = tf.reduce_mean(tf.cast(correct_prediction, tf.float32))\n",
    "    \n",
    "    # shuffle indicies\n",
    "    train_indicies = np.arange(Xd.shape[0])\n",
    "    np.random.shuffle(train_indicies)\n",
    "\n",
    "    training_now = training is not None\n",
    "    \n",
    "    # setting up variables we want to compute (and optimizing)\n",
    "    # if we have a training function, add that to things we compute\n",
    "    variables = [mean_loss,correct_prediction,accuracy]\n",
    "    if training_now:\n",
    "        variables[-1] = training\n",
    "    \n",
    "    # counter \n",
    "    iter_cnt = 0\n",
    "    for e in range(epochs):\n",
    "        # keep track of losses and accuracy\n",
    "        correct = 0\n",
    "        losses = []\n",
    "        # make sure we iterate over the dataset once\n",
    "        for i in range(int(math.ceil(Xd.shape[0]/batch_size))):\n",
    "            # generate indicies for the batch\n",
    "            start_idx = (i*batch_size)%Xd.shape[0]\n",
    "            \n",
    "            idx = train_indicies[start_idx:start_idx+batch_size]\n",
    "            X_batch,y_batch = get_subset(Xd,indices = idx)\n",
    "            # create a feed dictionary for this batch\n",
    "            feed_dict = {X: X_batch,\n",
    "                         y: y_batch,\n",
    "                         is_training: training_now }\n",
    "            # get batch size\n",
    "            actual_batch_size = y_batch.shape[0]\n",
    "            \n",
    "            # have tensorflow compute loss and correct predictions\n",
    "            # and (if given) perform a training step\n",
    "            loss, corr, _ = session.run(variables,feed_dict=feed_dict)\n",
    "            \n",
    "            # aggregate performance stats\n",
    "            losses.append(loss * actual_batch_size)\n",
    "            correct += np.sum(corr)\n",
    "            \n",
    "            # print every now and then\n",
    "#             print(accuracy.eval())\n",
    "            if training_now and (iter_cnt % print_every) == 0:\n",
    "                print(\"Iteration {0}: with minibatch training loss = {1:.3g} and accuracy of {2:.2g}\"\\\n",
    "                      .format(iter_cnt,loss,np.sum(corr)/actual_batch_size))\n",
    "            iter_cnt += 1\n",
    "        total_correct = correct/Xd.shape[0]\n",
    "        total_loss = np.sum(losses)/Xd.shape[0]\n",
    "        print(\"Epoch {2}, Overall loss = {0:.3g} and accuracy of {1:.3g}\"\\\n",
    "              .format(total_loss,total_correct,e+1))\n",
    "        if plot_losses:\n",
    "            plt.plot(losses)\n",
    "            plt.grid(True)\n",
    "            plt.title('Epoch {} Loss'.format(e+1))\n",
    "            plt.xlabel('minibatch number')\n",
    "            plt.ylabel('minibatch loss')\n",
    "            plt.show()\n",
    "    return total_loss,total_correct\n",
    "\n",
    "\n",
    "\n",
    "with tf.Session() as sess:\n",
    "    sess.run(tf.global_variables_initializer())\n",
    "    print('training')\n",
    "    run_model(sess,y_out,mean_loss,df_train,2,64,100,train_step,True)\n",
    "    print('validation')\n",
    "    run_model(sess,y_out,mean_loss,df_val,1,64)"
   ]
  },
  {
   "cell_type": "code",
   "execution_count": null,
   "metadata": {},
   "outputs": [],
   "source": []
  }
 ],
 "metadata": {
  "kernelspec": {
   "display_name": "Python 3",
   "language": "python",
   "name": "python3"
  },
  "language_info": {
   "codemirror_mode": {
    "name": "ipython",
    "version": 3
   },
   "file_extension": ".py",
   "mimetype": "text/x-python",
   "name": "python",
   "nbconvert_exporter": "python",
   "pygments_lexer": "ipython3",
   "version": "3.6.2"
  }
 },
 "nbformat": 4,
 "nbformat_minor": 2
}
